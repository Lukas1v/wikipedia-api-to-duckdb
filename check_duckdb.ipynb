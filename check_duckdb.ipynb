{
 "cells": [
  {
   "cell_type": "code",
   "execution_count": 10,
   "metadata": {},
   "outputs": [],
   "source": [
    "import duckdb\n",
    "db_path = '/workspaces/wikipedia-api-to-duckdb/wiki_recent_changes.db'\n"
   ]
  },
  {
   "cell_type": "code",
   "execution_count": 11,
   "metadata": {},
   "outputs": [
    {
     "name": "stdout",
     "output_type": "stream",
     "text": [
      "Tables:\n",
      "     recent_changes\n",
      "     recent_changes_raw\n"
     ]
    }
   ],
   "source": [
    "# Connect to your DuckDB database file\n",
    "conn = duckdb.connect(db_path)\n",
    "# Execute a query to get the list of tables\n",
    "# This query selects all table names from the \"tables\" system table in the \"main\" schema\n",
    "query = \"SELECT table_name FROM information_schema.tables WHERE table_schema='main';\"\n",
    "tables = conn.execute(query).fetchall()\n",
    "\n",
    "# Print the list of tables\n",
    "print(\"Tables:\")\n",
    "for table in tables:\n",
    "    print(\"     \"+table[0])\n",
    "\n",
    "conn.close()"
   ]
  },
  {
   "cell_type": "code",
   "execution_count": 23,
   "metadata": {},
   "outputs": [
    {
     "name": "stdout",
     "output_type": "stream",
     "text": [
      "   anon bot                                            comment logaction  \\\n",
      "0  None      Move 1 url. [[User:GreenC/WaybackMedic_2.5|Way...      None   \n",
      "\n",
      "  logid logparams logtype minor   new  newlen  ... redirect       revid  \\\n",
      "0  None      None    None  None  None  168676  ...     None  1254642932   \n",
      "\n",
      "                                       sha1 sha1hidden tags  \\\n",
      "0  7f8fcf1f49a1d1ae2c637e9ec8180d6d96765519       None   []   \n",
      "\n",
      "              timestamp      title  type        user    userid  \n",
      "0  2024-10-31T23:59:59Z  Brad Pitt  edit  GreenC bot  27823944  \n",
      "\n",
      "[1 rows x 26 columns]\n"
     ]
    }
   ],
   "source": [
    "\n",
    "\n",
    "# Connect to your DuckDB database file\n",
    "con = duckdb.connect(db_path)\n",
    "\n",
    "# Run a query\n",
    "result = con.execute('SELECT * FROM recent_changes_raw LIMIT 1').fetchdf()\n",
    "\n",
    "# Display the result\n",
    "print(result)\n",
    "\n",
    "con.close()"
   ]
  },
  {
   "cell_type": "code",
   "execution_count": 22,
   "metadata": {},
   "outputs": [
    {
     "name": "stdout",
     "output_type": "stream",
     "text": [
      "<duckdb.duckdb.DuckDBPyConnection object at 0x7f2cf831ecf0>\n"
     ]
    }
   ],
   "source": [
    "\n",
    "# Connect to your DuckDB database file\n",
    "con = duckdb.connect(db_path)\n",
    "\n",
    "# Run a query\n",
    "result = con.execute(\n",
    "                    ''' \n",
    "                     SELECT * \n",
    "                     FROM recent_changes_raw \n",
    "                     WHERE anon IS NOT NULL \n",
    "                     AND LENGTH(anon) > 0\n",
    "                     LIMIT 10\n",
    "                     ''')\n",
    "\n",
    "# Display the result\n",
    "print(result)\n",
    "\n",
    "con.close()"
   ]
  },
  {
   "cell_type": "code",
   "execution_count": null,
   "metadata": {},
   "outputs": [],
   "source": []
  },
  {
   "cell_type": "code",
   "execution_count": null,
   "metadata": {},
   "outputs": [
    {
     "name": "stdout",
     "output_type": "stream",
     "text": [
      "Tables:\n",
      "     my_first_dbt_model\n",
      "     userdata\n",
      "     my_second_dbt_model\n",
      "     view_userdata\n",
      "     view_userdata_country_count\n"
     ]
    }
   ],
   "source": []
  },
  {
   "cell_type": "code",
   "execution_count": null,
   "metadata": {},
   "outputs": [],
   "source": []
  }
 ],
 "metadata": {
  "kernelspec": {
   "display_name": "Python 3",
   "language": "python",
   "name": "python3"
  },
  "language_info": {
   "codemirror_mode": {
    "name": "ipython",
    "version": 3
   },
   "file_extension": ".py",
   "mimetype": "text/x-python",
   "name": "python",
   "nbconvert_exporter": "python",
   "pygments_lexer": "ipython3",
   "version": "3.12.7"
  }
 },
 "nbformat": 4,
 "nbformat_minor": 2
}
