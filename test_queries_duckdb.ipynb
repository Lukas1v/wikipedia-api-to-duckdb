{
 "cells": [
  {
   "cell_type": "code",
   "execution_count": 2,
   "metadata": {},
   "outputs": [],
   "source": [
    "import duckdb\n",
    "db_path = '/workspaces/wikipedia-api-to-duckdb/wiki_recent_changes.db'\n"
   ]
  },
  {
   "cell_type": "code",
   "execution_count": 9,
   "metadata": {},
   "outputs": [
    {
     "name": "stdout",
     "output_type": "stream",
     "text": [
      "Tables:\n",
      "     bronze_recent_changes\n",
      "     recent_changes_raw\n"
     ]
    }
   ],
   "source": [
    "# Execute a query to get the list of tables\n",
    "# This query selects all table names from the \"tables\" system table in the \"main\" schema\n",
    "\n",
    "conn = duckdb.connect(db_path)\n",
    "query = \"SELECT table_name FROM information_schema.tables WHERE table_schema='main';\"\n",
    "tables = conn.execute(query).fetchall()\n",
    "\n",
    "# Print the list of tables\n",
    "print(\"Tables:\")\n",
    "for table in tables:\n",
    "    print(\"     \"+table[0])\n",
    "\n",
    "conn.close()"
   ]
  },
  {
   "cell_type": "code",
   "execution_count": null,
   "metadata": {},
   "outputs": [
    {
     "name": "stdout",
     "output_type": "stream",
     "text": [
      "  actionhidden  anon bot                                            comment  \\\n",
      "0         None  None      Move 1 url. [[User:GreenC/WaybackMedic_2.5|Way...   \n",
      "\n",
      "  commenthidden logaction logid logparams logtype minor  ...  \\\n",
      "0          None      None  None      None    None  None  ...   \n",
      "\n",
      "                                       sha1 sha1hidden suppressed tags  \\\n",
      "0  7f8fcf1f49a1d1ae2c637e9ec8180d6d96765519       None       None   []   \n",
      "\n",
      "              timestamp      title  type        user userhidden    userid  \n",
      "0  2024-10-31T23:59:59Z  Brad Pitt  edit  GreenC bot       None  27823944  \n",
      "\n",
      "[1 rows x 30 columns]\n"
     ]
    }
   ],
   "source": [
    "#show 1 row\n",
    "with duckdb.connect(db_path) as conn:\n",
    "    result = conn.execute('SELECT * FROM bronze_recent_changes LIMIT 1').fetchdf()\n",
    "print(result)\n"
   ]
  },
  {
   "cell_type": "code",
   "execution_count": null,
   "metadata": {},
   "outputs": [
    {
     "name": "stdout",
     "output_type": "stream",
     "text": [
      "   count_star()\n",
      "0        356417\n"
     ]
    }
   ],
   "source": [
    "#count entries in base table\n",
    "with duckdb.connect(db_path) as conn:\n",
    "    result = conn.execute('SELECT count(*) FROM bronze_recent_changes').fetchdf()\n",
    "print(result)\n"
   ]
  },
  {
   "cell_type": "code",
   "execution_count": null,
   "metadata": {},
   "outputs": [
    {
     "name": "stdout",
     "output_type": "stream",
     "text": [
      "    cid           name     type  notnull dflt_value     pk\n",
      "0     0   actionhidden  VARCHAR    False       None  False\n",
      "1     1           anon  VARCHAR    False       None  False\n",
      "2     2            bot  VARCHAR    False       None  False\n",
      "3     3        comment  VARCHAR    False       None  False\n",
      "4     4  commenthidden  VARCHAR    False       None  False\n",
      "5     5      logaction  VARCHAR    False       None  False\n",
      "6     6          logid  VARCHAR    False       None  False\n",
      "7     7      logparams  VARCHAR    False       None  False\n",
      "8     8        logtype  VARCHAR    False       None  False\n",
      "9     9          minor  VARCHAR    False       None  False\n",
      "10   10            new  VARCHAR    False       None  False\n",
      "11   11         newlen  VARCHAR    False       None  False\n",
      "12   12             ns  VARCHAR    False       None  False\n",
      "13   13      old_revid  VARCHAR    False       None  False\n",
      "14   14         oldlen  VARCHAR    False       None  False\n",
      "15   15         pageid  VARCHAR    False       None  False\n",
      "16   16  parsedcomment  VARCHAR    False       None  False\n",
      "17   17           rcid  VARCHAR    False       None  False\n",
      "18   18       redirect  VARCHAR    False       None  False\n",
      "19   19          revid  VARCHAR    False       None  False\n",
      "20   20           sha1  VARCHAR    False       None  False\n",
      "21   21     sha1hidden  VARCHAR    False       None  False\n",
      "22   22     suppressed  VARCHAR    False       None  False\n",
      "23   23           tags  VARCHAR    False       None  False\n",
      "24   24      timestamp  VARCHAR    False       None  False\n",
      "25   25          title  VARCHAR    False       None  False\n",
      "26   26           type  VARCHAR    False       None  False\n",
      "27   27           user  VARCHAR    False       None  False\n",
      "28   28     userhidden  VARCHAR    False       None  False\n",
      "29   29         userid  VARCHAR    False       None  False\n"
     ]
    }
   ],
   "source": [
    "# Use PRAGMA table_info to get the columns of the bronze table\n",
    "with duckdb.connect(db_path) as conn: \n",
    "    columns_info = conn.execute(\"PRAGMA table_info('bronze_recent_changes')\").fetchdf()\n",
    "print(columns_info)"
   ]
  },
  {
   "cell_type": "code",
   "execution_count": null,
   "metadata": {},
   "outputs": [
    {
     "name": "stdout",
     "output_type": "stream",
     "text": [
      "Tables:\n",
      "     my_first_dbt_model\n",
      "     userdata\n",
      "     my_second_dbt_model\n",
      "     view_userdata\n",
      "     view_userdata_country_count\n"
     ]
    }
   ],
   "source": []
  },
  {
   "cell_type": "code",
   "execution_count": null,
   "metadata": {},
   "outputs": [],
   "source": []
  }
 ],
 "metadata": {
  "kernelspec": {
   "display_name": "Python 3",
   "language": "python",
   "name": "python3"
  },
  "language_info": {
   "codemirror_mode": {
    "name": "ipython",
    "version": 3
   },
   "file_extension": ".py",
   "mimetype": "text/x-python",
   "name": "python",
   "nbconvert_exporter": "python",
   "pygments_lexer": "ipython3",
   "version": "3.12.7"
  }
 },
 "nbformat": 4,
 "nbformat_minor": 2
}
